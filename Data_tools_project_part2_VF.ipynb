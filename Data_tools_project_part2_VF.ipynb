{
  "nbformat": 4,
  "nbformat_minor": 0,
  "metadata": {
    "colab": {
      "provenance": []
    },
    "kernelspec": {
      "name": "python3",
      "display_name": "Python 3"
    },
    "language_info": {
      "name": "python"
    }
  },
  "cells": [
    {
      "cell_type": "markdown",
      "source": [
        "# <font color=\"#ff0681\"> ***Projet Aurélie JAMMES & Hiatini TEKOHUOTETUA***</font>"
      ],
      "metadata": {
        "id": "gI0A3_8I4C_b"
      }
    },
    {
      "cell_type": "markdown",
      "source": [
        "-----------\n",
        "# <font color=\"#9600ff\"> **INTRODUCTION**\n",
        "-----------\n"
      ],
      "metadata": {
        "id": "RSEQ_FHkuEvv"
      }
    },
    {
      "cell_type": "markdown",
      "source": [
        "1) set the environment"
      ],
      "metadata": {
        "id": "hkQQEbc7UQLZ"
      }
    },
    {
      "cell_type": "code",
      "source": [
        "# for installing java\n",
        "!apt-get install openjdk-8-jdk-headless -qq > /dev/null\n",
        "# for downloading hadoop for spark\n",
        "!wget -q https://archive.apache.org/dist/spark/spark-3.0.0/spark-3.0.0-bin-hadoop3.2.tgz\n",
        "# unzipping hadoop for spark\n",
        "!tar xf spark-3.0.0-bin-hadoop3.2.tgz\n",
        "# setting environment variables\n",
        "import os\n",
        "os.environ[\"JAVA_HOME\"] = \"/usr/lib/jvm/java-8-openjdk-amd64\"\n",
        "os.environ[\"SPARK_HOME\"] = \"/content/spark-3.0.0-bin-hadoop3.2\"\n",
        "# installing spark on the current environment\n",
        "!pip install -q findspark\n",
        "import findspark\n",
        "findspark.init()\n",
        "# mount your google drive to be able to access files from your google drive !\n",
        "from google.colab import drive\n",
        "drive.mount('/content/drive')"
      ],
      "metadata": {
        "colab": {
          "base_uri": "https://localhost:8080/"
        },
        "id": "S9o7mg5SuNl9",
        "outputId": "6a9a070d-1ee6-46be-a73e-363beb5fb50d"
      },
      "execution_count": null,
      "outputs": [
        {
          "output_type": "stream",
          "name": "stdout",
          "text": [
            "Mounted at /content/drive\n"
          ]
        }
      ]
    },
    {
      "cell_type": "markdown",
      "source": [
        "We import pyspark and create a SparkSession from pyspark.sql for working with DataFrame. We choosed pyspark.sql because we are going to work with a structrured database."
      ],
      "metadata": {
        "id": "_2bzuJ5MufmJ"
      }
    },
    {
      "cell_type": "code",
      "source": [
        "import pyspark\n",
        "spark = pyspark.sql.SparkSession.builder.appName(\"Spark-Project-Part2\").getOrCreate()"
      ],
      "metadata": {
        "id": "EF8OyiHzumLb"
      },
      "execution_count": null,
      "outputs": []
    },
    {
      "cell_type": "markdown",
      "source": [
        "2) import the database as a dataframe"
      ],
      "metadata": {
        "id": "Ep-ObZOAuvph"
      }
    },
    {
      "cell_type": "code",
      "source": [
        "real_estate_df = spark.read.csv('drive/MyDrive/PROJECT_DATA/project_data_real_estate_toulouse_and_suburbs.csv',header=True,sep=';')\n",
        "real_estate_df.show(5)\n",
        "real_estate_df.printSchema()"
      ],
      "metadata": {
        "colab": {
          "base_uri": "https://localhost:8080/"
        },
        "id": "g8Hg34kzuv-u",
        "outputId": "c8bbc402-cdde-4ac3-f178-a5c8d640cf79"
      },
      "execution_count": null,
      "outputs": [
        {
          "output_type": "stream",
          "name": "stdout",
          "text": [
            "+----------+--------+------+--------+-------------------+-------+------+-------------+----------+--------+\n",
            "|  SaleDate|SaleType| Price|PostCode|               City|NbRooms|NbLots|ResidenceType|LivingArea|LandArea|\n",
            "+----------+--------+------+--------+-------------------+-------+------+-------------+----------+--------+\n",
            "|15/01/2019|    SALE| 95000|   31270|VILLENEUVE TOLOSANE|      2|     0|        HOUSE|        45|     505|\n",
            "|21/01/2019|    SALE|261700|   31270|VILLENEUVE TOLOSANE|      4|     0|        HOUSE|        87|     311|\n",
            "|03/01/2019|    SALE|101000|   31270|VILLENEUVE TOLOSANE|      2|     1|    APARTMENT|        44|       0|\n",
            "|11/01/2019|    SALE| 59500|   31270|VILLENEUVE TOLOSANE|      1|     1|    APARTMENT|        26|       0|\n",
            "|15/01/2019|    SALE|179000|   31270|VILLENEUVE TOLOSANE|      4|     0|        HOUSE|        95|     263|\n",
            "+----------+--------+------+--------+-------------------+-------+------+-------------+----------+--------+\n",
            "only showing top 5 rows\n",
            "\n",
            "root\n",
            " |-- SaleDate: string (nullable = true)\n",
            " |-- SaleType: string (nullable = true)\n",
            " |-- Price: string (nullable = true)\n",
            " |-- PostCode: string (nullable = true)\n",
            " |-- City: string (nullable = true)\n",
            " |-- NbRooms: string (nullable = true)\n",
            " |-- NbLots: string (nullable = true)\n",
            " |-- ResidenceType: string (nullable = true)\n",
            " |-- LivingArea: string (nullable = true)\n",
            " |-- LandArea: string (nullable = true)\n",
            "\n"
          ]
        }
      ]
    },
    {
      "cell_type": "markdown",
      "source": [
        "3)\tCreating the temporary view from the DataFrame"
      ],
      "metadata": {
        "id": "6r_RQziSvCuJ"
      }
    },
    {
      "cell_type": "code",
      "source": [
        "real_estate_df.createOrReplaceTempView('real_estate')"
      ],
      "metadata": {
        "id": "SL55jw1YvE91"
      },
      "execution_count": null,
      "outputs": []
    },
    {
      "cell_type": "markdown",
      "source": [
        "------------------------------\n",
        "# <font color=\"#9600ff\"> **I. EVOLUTION OF PRICES**\n",
        "------------------------------"
      ],
      "metadata": {
        "id": "KG8NsAcwuOOT"
      }
    },
    {
      "cell_type": "markdown",
      "source": [
        "**1) We create a new column with the Price per square meter**"
      ],
      "metadata": {
        "id": "nY_9_kI-vOvZ"
      }
    },
    {
      "cell_type": "code",
      "source": [
        "#price per square meter\n",
        "real_estate_price_per_square_meter_df = spark.sql(\" SELECT*, price/LivingArea as PricePerSquareMeter FROM real_estate \")\n",
        "\n",
        "#create the temporary view from the DataFrame\n",
        "real_estate_price_per_square_meter_df.createOrReplaceTempView('price_per_square_meter')"
      ],
      "metadata": {
        "id": "sXpiGvs7vQZ7"
      },
      "execution_count": null,
      "outputs": []
    },
    {
      "cell_type": "markdown",
      "source": [
        "**2) We want to split the SaleDate into Years Months and Days in order to analyze the evolution of price per year.**"
      ],
      "metadata": {
        "id": "3p9KousgvhF5"
      }
    },
    {
      "cell_type": "code",
      "source": [
        "# importing all from pyspark.sql.function\n",
        "from pyspark.sql.functions import *\n",
        "\n",
        "# split() function defining parameters\n",
        "split_cols = pyspark.sql.functions.split(real_estate_price_per_square_meter_df['SaleDate'], '/')\n",
        "  \n",
        "# Now applying split() using withColumn()\n",
        "real_estate_split_date_df = real_estate_price_per_square_meter_df.withColumn('Year', split_cols.getItem(2)) \\\n",
        "    .withColumn('Month', split_cols.getItem(1)) \\\n",
        "    .withColumn('Day', split_cols.getItem(0))\n",
        "\n",
        "#create the temporary view from the DataFrame\n",
        "real_estate_split_date_df.createOrReplaceTempView('real_estate_split_date')\n",
        "\n",
        "  "
      ],
      "metadata": {
        "id": "ZlcGoyn_vlPY",
        "colab": {
          "base_uri": "https://localhost:8080/",
          "height": 368
        },
        "outputId": "76fd86cc-7136-49a6-aa7a-9861262ee1e7"
      },
      "execution_count": null,
      "outputs": [
        {
          "output_type": "error",
          "ename": "ModuleNotFoundError",
          "evalue": "ignored",
          "traceback": [
            "\u001b[0;31m---------------------------------------------------------------------------\u001b[0m",
            "\u001b[0;31mModuleNotFoundError\u001b[0m                       Traceback (most recent call last)",
            "\u001b[0;32m<ipython-input-1-4f4cde001bd5>\u001b[0m in \u001b[0;36m<module>\u001b[0;34m\u001b[0m\n\u001b[1;32m      1\u001b[0m \u001b[0;31m# importing all from pyspark.sql.function\u001b[0m\u001b[0;34m\u001b[0m\u001b[0;34m\u001b[0m\u001b[0;34m\u001b[0m\u001b[0m\n\u001b[0;32m----> 2\u001b[0;31m \u001b[0;32mfrom\u001b[0m \u001b[0mpyspark\u001b[0m\u001b[0;34m.\u001b[0m\u001b[0msql\u001b[0m\u001b[0;34m.\u001b[0m\u001b[0mfunctions\u001b[0m \u001b[0;32mimport\u001b[0m \u001b[0;34m*\u001b[0m\u001b[0;34m\u001b[0m\u001b[0;34m\u001b[0m\u001b[0m\n\u001b[0m\u001b[1;32m      3\u001b[0m \u001b[0;34m\u001b[0m\u001b[0m\n\u001b[1;32m      4\u001b[0m \u001b[0;31m# split() function defining parameters\u001b[0m\u001b[0;34m\u001b[0m\u001b[0;34m\u001b[0m\u001b[0;34m\u001b[0m\u001b[0m\n\u001b[1;32m      5\u001b[0m \u001b[0msplit_cols\u001b[0m \u001b[0;34m=\u001b[0m \u001b[0mpyspark\u001b[0m\u001b[0;34m.\u001b[0m\u001b[0msql\u001b[0m\u001b[0;34m.\u001b[0m\u001b[0mfunctions\u001b[0m\u001b[0;34m.\u001b[0m\u001b[0msplit\u001b[0m\u001b[0;34m(\u001b[0m\u001b[0mreal_estate_price_per_square_meter_df\u001b[0m\u001b[0;34m[\u001b[0m\u001b[0;34m'SaleDate'\u001b[0m\u001b[0;34m]\u001b[0m\u001b[0;34m,\u001b[0m \u001b[0;34m'/'\u001b[0m\u001b[0;34m)\u001b[0m\u001b[0;34m\u001b[0m\u001b[0;34m\u001b[0m\u001b[0m\n",
            "\u001b[0;31mModuleNotFoundError\u001b[0m: No module named 'pyspark'",
            "",
            "\u001b[0;31m---------------------------------------------------------------------------\u001b[0;32m\nNOTE: If your import is failing due to a missing package, you can\nmanually install dependencies using either !pip or !apt.\n\nTo view examples of installing some common dependencies, click the\n\"Open Examples\" button below.\n\u001b[0;31m---------------------------------------------------------------------------\u001b[0m\n"
          ],
          "errorDetails": {
            "actions": [
              {
                "action": "open_url",
                "actionText": "Open Examples",
                "url": "/notebooks/snippets/importing_libraries.ipynb"
              }
            ]
          }
        }
      ]
    },
    {
      "cell_type": "markdown",
      "source": [
        "**3) We create 5 dataframes whith the average price per square meter grouping by City, one for each year.**"
      ],
      "metadata": {
        "id": "ksZZG0OHvs1P"
      }
    },
    {
      "cell_type": "code",
      "source": [
        "# avg_PricePerSquareMeter_in_2015\n",
        "avgPricePerSquareMeter_perCity_2015_df = spark.sql(\"SELECT City, CAST(avg(PricePerSquareMeter) as INT) as avg_PricePerSquareMeter_in_2015 \\\n",
        "                              FROM real_estate_split_date \\\n",
        "                              WHERE Year=2015 \\\n",
        "                              GROUP BY City \\\n",
        "                              ORDER BY avg(PricePerSquareMeter) desc \")\n",
        "avgPricePerSquareMeter_perCity_2015_df.show()\n",
        "\n",
        "# avg_PricePerSquareMeter_in_2016\n",
        "avgPricePerSquareMeter_perCity_2016_df = spark.sql(\"SELECT City, CAST(avg(PricePerSquareMeter) as INT) as avg_PricePerSquareMeter_in_2016 \\\n",
        "                              FROM real_estate_split_date \\\n",
        "                              WHERE Year=2016 \\\n",
        "                              GROUP BY City \\\n",
        "                              ORDER BY avg(PricePerSquareMeter) desc \")\n",
        "avgPricePerSquareMeter_perCity_2016_df.show()\n",
        "\n",
        "# avg_PricePerSquareMeter_in_2017\n",
        "avgPricePerSquareMeter_perCity_2017_df = spark.sql(\"SELECT City, CAST(avg(PricePerSquareMeter) as INT) as avg_PricePerSquareMeter_in_2017 \\\n",
        "                              FROM real_estate_split_date \\\n",
        "                              WHERE Year=2017 \\\n",
        "                              GROUP BY City \\\n",
        "                              ORDER BY avg(PricePerSquareMeter) desc \")\n",
        "avgPricePerSquareMeter_perCity_2017_df.show()\n",
        "\n",
        "# avg_PricePerSquareMeter_in_2018\n",
        "avgPricePerSquareMeter_perCity_2018_df = spark.sql(\"SELECT City, CAST(avg(PricePerSquareMeter) as INT) as avg_PricePerSquareMeter_in_2018 \\\n",
        "                              FROM real_estate_split_date \\\n",
        "                              WHERE Year=2018 \\\n",
        "                              GROUP BY City \\\n",
        "                              ORDER BY avg(PricePerSquareMeter) desc \")\n",
        "avgPricePerSquareMeter_perCity_2018_df.show()\n",
        "\n",
        "# avg_PricePerSquareMeter_in_2019\n",
        "avgPricePerSquareMeter_perCity_2019_df = spark.sql(\"SELECT City, CAST(avg(PricePerSquareMeter) as INT) as avg_PricePerSquareMeter_in_2019 \\\n",
        "                              FROM real_estate_split_date \\\n",
        "                              WHERE Year=2019 \\\n",
        "                              GROUP BY City \\\n",
        "                              ORDER BY avg(PricePerSquareMeter) desc \")\n",
        "avgPricePerSquareMeter_perCity_2019_df.show()"
      ],
      "metadata": {
        "colab": {
          "base_uri": "https://localhost:8080/"
        },
        "id": "R7DHeW8Zvyn8",
        "outputId": "422b7cd3-72e8-4805-e754-ae642bc5bf12"
      },
      "execution_count": null,
      "outputs": [
        {
          "output_type": "stream",
          "name": "stdout",
          "text": [
            "+--------------------+-------------------------------+\n",
            "|                City|avg_PricePerSquareMeter_in_2015|\n",
            "+--------------------+-------------------------------+\n",
            "|          SAINT-JEAN|                          44756|\n",
            "|              PIBRAC|                          31822|\n",
            "|          AUCAMVILLE|                          25193|\n",
            "|            TOULOUSE|                          19408|\n",
            "|RAMONVILLE-SAINT-...|                          13547|\n",
            "|               MURET|                          10501|\n",
            "| VILLENEUVE TOLOSANE|                          10182|\n",
            "|  PLAISANCE DU TOUCH|                           7431|\n",
            "|             BLAGNAC|                           5563|\n",
            "|  AUZEVILLE-TOLOSANE|                           4408|\n",
            "|    VIEILLE TOULOUSE|                           3997|\n",
            "|       TOURNEFEUILLE|                           3331|\n",
            "|    CASTANET TOLOSAN|                           3289|\n",
            "|           BEAUZELLE|                           3225|\n",
            "|               BALMA|                           3102|\n",
            "|             L UNION|                           3075|\n",
            "|SAINT-ORENS-DE-GA...|                           2964|\n",
            "|   QUINT-FONSEGRIVES|                           2871|\n",
            "|          ESCALQUENS|                           2795|\n",
            "|           COLOMIERS|                           2611|\n",
            "+--------------------+-------------------------------+\n",
            "only showing top 20 rows\n",
            "\n",
            "+--------------------+-------------------------------+\n",
            "|                City|avg_PricePerSquareMeter_in_2016|\n",
            "+--------------------+-------------------------------+\n",
            "|             BLAGNAC|                          18694|\n",
            "|           COLOMIERS|                          14674|\n",
            "|            TOULOUSE|                           8502|\n",
            "|       TOURNEFEUILLE|                           8406|\n",
            "|RAMONVILLE-SAINT-...|                           8370|\n",
            "|        CORNEBARRIEU|                           7795|\n",
            "|             CUGNAUX|                           6856|\n",
            "|          AUCAMVILLE|                           4913|\n",
            "|              LABEGE|                           4791|\n",
            "|    VIEILLE TOULOUSE|                           4326|\n",
            "|               BALMA|                           3944|\n",
            "|   QUINT-FONSEGRIVES|                           3733|\n",
            "| VILLENEUVE TOLOSANE|                           3460|\n",
            "|               MURET|                           3411|\n",
            "|    CASTANET TOLOSAN|                           3316|\n",
            "|SAINT-ORENS-DE-GA...|                           3137|\n",
            "|             L UNION|                           3118|\n",
            "|          SAINT-JEAN|                           3102|\n",
            "|           BEAUZELLE|                           3086|\n",
            "|              PIBRAC|                           3021|\n",
            "+--------------------+-------------------------------+\n",
            "only showing top 20 rows\n",
            "\n",
            "+--------------------+-------------------------------+\n",
            "|                City|avg_PricePerSquareMeter_in_2017|\n",
            "+--------------------+-------------------------------+\n",
            "|             CUGNAUX|                          18759|\n",
            "|            TOULOUSE|                          11858|\n",
            "|             L UNION|                           6790|\n",
            "|SAINT-ORENS-DE-GA...|                           5535|\n",
            "|             BLAGNAC|                           4652|\n",
            "|RAMONVILLE-SAINT-...|                           4590|\n",
            "|               MURET|                           3906|\n",
            "|       TOURNEFEUILLE|                           3855|\n",
            "|    CASTANET TOLOSAN|                           3854|\n",
            "|               BALMA|                           3759|\n",
            "| VILLENEUVE TOLOSANE|                           3588|\n",
            "|          SAINT-JEAN|                           3436|\n",
            "|   QUINT-FONSEGRIVES|                           3421|\n",
            "|  PORTET SUR GARONNE|                           3385|\n",
            "|           BEAUZELLE|                           3330|\n",
            "|  AUZEVILLE-TOLOSANE|                           3149|\n",
            "|              PIBRAC|                           3147|\n",
            "|    VIEILLE TOULOUSE|                           2960|\n",
            "|        CORNEBARRIEU|                           2913|\n",
            "|           COLOMIERS|                           2904|\n",
            "+--------------------+-------------------------------+\n",
            "only showing top 20 rows\n",
            "\n",
            "+--------------------+-------------------------------+\n",
            "|                City|avg_PricePerSquareMeter_in_2018|\n",
            "+--------------------+-------------------------------+\n",
            "|            TOULOUSE|                           5588|\n",
            "|    CASTANET TOLOSAN|                           4496|\n",
            "|       TOURNEFEUILLE|                           3856|\n",
            "|  AUZEVILLE-TOLOSANE|                           3504|\n",
            "|    VIEILLE TOULOUSE|                           3463|\n",
            "|               BALMA|                           3434|\n",
            "|           COLOMIERS|                           3421|\n",
            "|             BLAGNAC|                           3397|\n",
            "|        CORNEBARRIEU|                           3364|\n",
            "|SAINT-ORENS-DE-GA...|                           3328|\n",
            "|           BEAUZELLE|                           3299|\n",
            "|   QUINT-FONSEGRIVES|                           3251|\n",
            "|             L UNION|                           3174|\n",
            "|             CUGNAUX|                           2929|\n",
            "|          FENOUILLET|                           2917|\n",
            "|              LABEGE|                           2897|\n",
            "|          SAINT-JEAN|                           2851|\n",
            "|              PIBRAC|                           2845|\n",
            "|RAMONVILLE-SAINT-...|                           2836|\n",
            "|          AUCAMVILLE|                           2813|\n",
            "+--------------------+-------------------------------+\n",
            "only showing top 20 rows\n",
            "\n",
            "+--------------------+-------------------------------+\n",
            "|                City|avg_PricePerSquareMeter_in_2019|\n",
            "+--------------------+-------------------------------+\n",
            "|            TOULOUSE|                          25310|\n",
            "|    CASTANET TOLOSAN|                           5421|\n",
            "|              PIBRAC|                           4797|\n",
            "|           BEAUZELLE|                           3988|\n",
            "|    VIEILLE TOULOUSE|                           3668|\n",
            "|SAINT-ORENS-DE-GA...|                           3502|\n",
            "|   QUINT-FONSEGRIVES|                           3371|\n",
            "|       TOURNEFEUILLE|                           3215|\n",
            "|               BALMA|                           3183|\n",
            "|             BLAGNAC|                           3050|\n",
            "|          SAINT-JEAN|                           2905|\n",
            "|RAMONVILLE-SAINT-...|                           2862|\n",
            "|  PLAISANCE DU TOUCH|                           2832|\n",
            "|          ESCALQUENS|                           2802|\n",
            "|            LEGUEVIN|                           2759|\n",
            "|           COLOMIERS|                           2702|\n",
            "|             CUGNAUX|                           2599|\n",
            "| VILLENEUVE TOLOSANE|                           2563|\n",
            "|        CORNEBARRIEU|                           2552|\n",
            "|  AUZEVILLE-TOLOSANE|                           2538|\n",
            "+--------------------+-------------------------------+\n",
            "only showing top 20 rows\n",
            "\n"
          ]
        }
      ]
    },
    {
      "cell_type": "markdown",
      "source": [
        "**4) We join the five dataframes in as one in order to have all the values in the same dataframe**"
      ],
      "metadata": {
        "id": "adJQlaugv4iq"
      }
    },
    {
      "cell_type": "code",
      "source": [
        "#create the temporary views from the DataFrames\n",
        "avgPricePerSquareMeter_perCity_2015_df.createOrReplaceTempView('avgPricePerSquareMeter_perCity_2015')\n",
        "avgPricePerSquareMeter_perCity_2016_df.createOrReplaceTempView('avgPricePerSquareMeter_perCity_2016')\n",
        "avgPricePerSquareMeter_perCity_2017_df.createOrReplaceTempView('avgPricePerSquareMeter_perCity_2017')\n",
        "avgPricePerSquareMeter_perCity_2018_df.createOrReplaceTempView('avgPricePerSquareMeter_perCity_2018')\n",
        "avgPricePerSquareMeter_perCity_2019_df.createOrReplaceTempView('avgPricePerSquareMeter_perCity_2019')\n",
        "\n",
        "# join \n",
        "avgPricePerSquareMeter_perCity_join_df = spark.sql(\" SELECT *\\\n",
        "                                                    FROM avgPricePerSquareMeter_perCity_2015 \\\n",
        "                                                    JOIN avgPricePerSquareMeter_perCity_2016 \\\n",
        "                                                    ON avgPricePerSquareMeter_perCity_2015.City = avgPricePerSquareMeter_perCity_2016.City \\\n",
        "                                                    JOIN avgPricePerSquareMeter_perCity_2017 \\\n",
        "                                                    ON avgPricePerSquareMeter_perCity_2017.City = avgPricePerSquareMeter_perCity_2016.City \\\n",
        "                                                    JOIN avgPricePerSquareMeter_perCity_2018 \\\n",
        "                                                    ON avgPricePerSquareMeter_perCity_2018.City = avgPricePerSquareMeter_perCity_2016.City \\\n",
        "                                                    JOIN avgPricePerSquareMeter_perCity_2019 \\\n",
        "                                                    ON avgPricePerSquareMeter_perCity_2019.City = avgPricePerSquareMeter_perCity_2016.City\")\n",
        "avgPricePerSquareMeter_perCity_join_df.show()"
      ],
      "metadata": {
        "colab": {
          "base_uri": "https://localhost:8080/"
        },
        "id": "-TFLjs_0v5Ei",
        "outputId": "e815af82-1a5c-4939-be73-d3d1db775c9c"
      },
      "execution_count": null,
      "outputs": [
        {
          "output_type": "stream",
          "name": "stdout",
          "text": [
            "+--------------------+-------------------------------+--------------------+-------------------------------+--------------------+-------------------------------+--------------------+-------------------------------+--------------------+-------------------------------+\n",
            "|                City|avg_PricePerSquareMeter_in_2015|                City|avg_PricePerSquareMeter_in_2016|                City|avg_PricePerSquareMeter_in_2017|                City|avg_PricePerSquareMeter_in_2018|                City|avg_PricePerSquareMeter_in_2019|\n",
            "+--------------------+-------------------------------+--------------------+-------------------------------+--------------------+-------------------------------+--------------------+-------------------------------+--------------------+-------------------------------+\n",
            "|             BLAGNAC|                           5563|             BLAGNAC|                          18694|             BLAGNAC|                           4652|             BLAGNAC|                           3397|             BLAGNAC|                           3050|\n",
            "|          FENOUILLET|                           2074|          FENOUILLET|                           2620|          FENOUILLET|                           2383|          FENOUILLET|                           2917|          FENOUILLET|                           2000|\n",
            "|            LEGUEVIN|                           2537|            LEGUEVIN|                           2467|            LEGUEVIN|                           2351|            LEGUEVIN|                           2452|            LEGUEVIN|                           2759|\n",
            "|  PORTET SUR GARONNE|                           2360|  PORTET SUR GARONNE|                           2635|  PORTET SUR GARONNE|                           3385|  PORTET SUR GARONNE|                           2720|  PORTET SUR GARONNE|                           2113|\n",
            "| VILLENEUVE TOLOSANE|                          10182| VILLENEUVE TOLOSANE|                           3460| VILLENEUVE TOLOSANE|                           3588| VILLENEUVE TOLOSANE|                           2658| VILLENEUVE TOLOSANE|                           2563|\n",
            "|       TOURNEFEUILLE|                           3331|       TOURNEFEUILLE|                           8406|       TOURNEFEUILLE|                           3855|       TOURNEFEUILLE|                           3856|       TOURNEFEUILLE|                           3215|\n",
            "|           BEAUZELLE|                           3225|           BEAUZELLE|                           3086|           BEAUZELLE|                           3330|           BEAUZELLE|                           3299|           BEAUZELLE|                           3988|\n",
            "|              PIBRAC|                          31822|              PIBRAC|                           3021|              PIBRAC|                           3147|              PIBRAC|                           2845|              PIBRAC|                           4797|\n",
            "|RAMONVILLE-SAINT-...|                          13547|RAMONVILLE-SAINT-...|                           8370|RAMONVILLE-SAINT-...|                           4590|RAMONVILLE-SAINT-...|                           2836|RAMONVILLE-SAINT-...|                           2862|\n",
            "|        CORNEBARRIEU|                           2442|        CORNEBARRIEU|                           7795|        CORNEBARRIEU|                           2913|        CORNEBARRIEU|                           3364|        CORNEBARRIEU|                           2552|\n",
            "|  PLAISANCE DU TOUCH|                           7431|  PLAISANCE DU TOUCH|                           2554|  PLAISANCE DU TOUCH|                           2625|  PLAISANCE DU TOUCH|                           2766|  PLAISANCE DU TOUCH|                           2832|\n",
            "|               MURET|                          10501|               MURET|                           3411|               MURET|                           3906|               MURET|                           2390|               MURET|                           2112|\n",
            "|               BALMA|                           3102|               BALMA|                           3944|               BALMA|                           3759|               BALMA|                           3434|               BALMA|                           3183|\n",
            "|    VIEILLE TOULOUSE|                           3997|    VIEILLE TOULOUSE|                           4326|    VIEILLE TOULOUSE|                           2960|    VIEILLE TOULOUSE|                           3463|    VIEILLE TOULOUSE|                           3668|\n",
            "|          ESCALQUENS|                           2795|          ESCALQUENS|                           2869|          ESCALQUENS|                           2698|          ESCALQUENS|                           2792|          ESCALQUENS|                           2802|\n",
            "|             CUGNAUX|                           2558|             CUGNAUX|                           6856|             CUGNAUX|                          18759|             CUGNAUX|                           2929|             CUGNAUX|                           2599|\n",
            "|    CASTANET TOLOSAN|                           3289|    CASTANET TOLOSAN|                           3316|    CASTANET TOLOSAN|                           3854|    CASTANET TOLOSAN|                           4496|    CASTANET TOLOSAN|                           5421|\n",
            "|             L UNION|                           3075|             L UNION|                           3118|             L UNION|                           6790|             L UNION|                           3174|             L UNION|                           1541|\n",
            "|          SAINT-JEAN|                          44756|          SAINT-JEAN|                           3102|          SAINT-JEAN|                           3436|          SAINT-JEAN|                           2851|          SAINT-JEAN|                           2905|\n",
            "|   QUINT-FONSEGRIVES|                           2871|   QUINT-FONSEGRIVES|                           3733|   QUINT-FONSEGRIVES|                           3421|   QUINT-FONSEGRIVES|                           3251|   QUINT-FONSEGRIVES|                           3371|\n",
            "+--------------------+-------------------------------+--------------------+-------------------------------+--------------------+-------------------------------+--------------------+-------------------------------+--------------------+-------------------------------+\n",
            "only showing top 20 rows\n",
            "\n"
          ]
        }
      ]
    },
    {
      "cell_type": "markdown",
      "source": [
        "**5) Convert the sql dataframe into a panda dataframe** \n",
        "\n",
        "**Clean the data**\n",
        "\n",
        "**Display the final dataframe**"
      ],
      "metadata": {
        "id": "6WM_sgSPOySm"
      }
    },
    {
      "cell_type": "code",
      "source": [
        "#Import pyspark.pandas  \n",
        "import pandas as pd\n",
        "\n",
        "#Convert the dataframe to a panda DataFrame\n",
        "pandas_df = avgPricePerSquareMeter_perCity_join_df.toPandas()\n",
        "\n",
        "#Rename columns\n",
        "pandas_df.set_axis(['City', 'avg_PricePerSquareMeter_in_2015', 'a','avg_PricePerSquareMeter_in_2016','b','avg_PricePerSquareMeter_in_2017', 'c', 'avg_PricePerSquareMeter_in_2018', 'd', 'avg_PricePerSquareMeter_in_2019'], axis='columns', inplace=True)\n",
        "\n",
        "#delete the column a,b,c and d dataframe \n",
        "real_estate_vf_df = pandas_df[['City', 'avg_PricePerSquareMeter_in_2015', 'avg_PricePerSquareMeter_in_2016', 'avg_PricePerSquareMeter_in_2017', 'avg_PricePerSquareMeter_in_2018', 'avg_PricePerSquareMeter_in_2019']]\n",
        "\n",
        "#create a new column : percentage_increase\n",
        "real_estate_vf_df = real_estate_vf_df.assign( percentage_of_increase_in_5_years = ((real_estate_vf_df['avg_PricePerSquareMeter_in_2019'] - real_estate_vf_df['avg_PricePerSquareMeter_in_2015']) / real_estate_vf_df['avg_PricePerSquareMeter_in_2015']) * 100)\n",
        "\n",
        "#sort and display the dataframe \n",
        "real_estate_vf_df.sort_values(by = 'percentage_of_increase_in_5_years', ascending = False) \n"
      ],
      "metadata": {
        "colab": {
          "base_uri": "https://localhost:8080/",
          "height": 1000
        },
        "id": "-9J0dnbUO2J6",
        "outputId": "ef7c0953-8439-4312-e26e-8fa61d703428"
      },
      "execution_count": null,
      "outputs": [
        {
          "output_type": "execute_result",
          "data": {
            "text/plain": [
              "                        City  avg_PricePerSquareMeter_in_2015  \\\n",
              "16          CASTANET TOLOSAN                             3289   \n",
              "24                  TOULOUSE                            19408   \n",
              "6                  BEAUZELLE                             3225   \n",
              "21  SAINT-ORENS-DE-GAMEVILLE                             2964   \n",
              "19         QUINT-FONSEGRIVES                             2871   \n",
              "2                   LEGUEVIN                             2537   \n",
              "9               CORNEBARRIEU                             2442   \n",
              "20                 COLOMIERS                             2611   \n",
              "12                     BALMA                             3102   \n",
              "15                   CUGNAUX                             2558   \n",
              "14                ESCALQUENS                             2795   \n",
              "5              TOURNEFEUILLE                             3331   \n",
              "1                 FENOUILLET                             2074   \n",
              "23                    LABEGE                             2609   \n",
              "13          VIEILLE TOULOUSE                             3997   \n",
              "3         PORTET SUR GARONNE                             2360   \n",
              "22        AUZEVILLE-TOLOSANE                             4408   \n",
              "0                    BLAGNAC                             5563   \n",
              "17                   L UNION                             3075   \n",
              "10        PLAISANCE DU TOUCH                             7431   \n",
              "4        VILLENEUVE TOLOSANE                            10182   \n",
              "8      RAMONVILLE-SAINT-AGNE                            13547   \n",
              "11                     MURET                            10501   \n",
              "7                     PIBRAC                            31822   \n",
              "25                AUCAMVILLE                            25193   \n",
              "18                SAINT-JEAN                            44756   \n",
              "\n",
              "    avg_PricePerSquareMeter_in_2016  avg_PricePerSquareMeter_in_2017  \\\n",
              "16                             3316                             3854   \n",
              "24                             8502                            11858   \n",
              "6                              3086                             3330   \n",
              "21                             3137                             5535   \n",
              "19                             3733                             3421   \n",
              "2                              2467                             2351   \n",
              "9                              7795                             2913   \n",
              "20                            14674                             2904   \n",
              "12                             3944                             3759   \n",
              "15                             6856                            18759   \n",
              "14                             2869                             2698   \n",
              "5                              8406                             3855   \n",
              "1                              2620                             2383   \n",
              "23                             4791                             2832   \n",
              "13                             4326                             2960   \n",
              "3                              2635                             3385   \n",
              "22                             2630                             3149   \n",
              "0                             18694                             4652   \n",
              "17                             3118                             6790   \n",
              "10                             2554                             2625   \n",
              "4                              3460                             3588   \n",
              "8                              8370                             4590   \n",
              "11                             3411                             3906   \n",
              "7                              3021                             3147   \n",
              "25                             4913                             2580   \n",
              "18                             3102                             3436   \n",
              "\n",
              "    avg_PricePerSquareMeter_in_2018  avg_PricePerSquareMeter_in_2019  \\\n",
              "16                             4496                             5421   \n",
              "24                             5588                            25310   \n",
              "6                              3299                             3988   \n",
              "21                             3328                             3502   \n",
              "19                             3251                             3371   \n",
              "2                              2452                             2759   \n",
              "9                              3364                             2552   \n",
              "20                             3421                             2702   \n",
              "12                             3434                             3183   \n",
              "15                             2929                             2599   \n",
              "14                             2792                             2802   \n",
              "5                              3856                             3215   \n",
              "1                              2917                             2000   \n",
              "23                             2897                             2444   \n",
              "13                             3463                             3668   \n",
              "3                              2720                             2113   \n",
              "22                             3504                             2538   \n",
              "0                              3397                             3050   \n",
              "17                             3174                             1541   \n",
              "10                             2766                             2832   \n",
              "4                              2658                             2563   \n",
              "8                              2836                             2862   \n",
              "11                             2390                             2112   \n",
              "7                              2845                             4797   \n",
              "25                             2813                             2471   \n",
              "18                             2851                             2905   \n",
              "\n",
              "    percentage_of_increase_in_5_years  \n",
              "16                          64.822134  \n",
              "24                          30.410140  \n",
              "6                           23.658915  \n",
              "21                          18.151147  \n",
              "19                          17.415535  \n",
              "2                            8.750493  \n",
              "9                            4.504505  \n",
              "20                           3.485255  \n",
              "12                           2.611219  \n",
              "15                           1.602815  \n",
              "14                           0.250447  \n",
              "5                           -3.482438  \n",
              "1                           -3.567985  \n",
              "23                          -6.324262  \n",
              "13                          -8.231173  \n",
              "3                          -10.466102  \n",
              "22                         -42.422868  \n",
              "0                          -45.173468  \n",
              "17                         -49.886179  \n",
              "10                         -61.889382  \n",
              "4                          -74.828128  \n",
              "8                          -78.873551  \n",
              "11                         -79.887630  \n",
              "7                          -84.925523  \n",
              "25                         -90.191720  \n",
              "18                         -93.509250  "
            ],
            "text/html": [
              "\n",
              "  <div id=\"df-6ff27eb3-3fb6-49bc-91c1-3c8f5e4c791d\">\n",
              "    <div class=\"colab-df-container\">\n",
              "      <div>\n",
              "<style scoped>\n",
              "    .dataframe tbody tr th:only-of-type {\n",
              "        vertical-align: middle;\n",
              "    }\n",
              "\n",
              "    .dataframe tbody tr th {\n",
              "        vertical-align: top;\n",
              "    }\n",
              "\n",
              "    .dataframe thead th {\n",
              "        text-align: right;\n",
              "    }\n",
              "</style>\n",
              "<table border=\"1\" class=\"dataframe\">\n",
              "  <thead>\n",
              "    <tr style=\"text-align: right;\">\n",
              "      <th></th>\n",
              "      <th>City</th>\n",
              "      <th>avg_PricePerSquareMeter_in_2015</th>\n",
              "      <th>avg_PricePerSquareMeter_in_2016</th>\n",
              "      <th>avg_PricePerSquareMeter_in_2017</th>\n",
              "      <th>avg_PricePerSquareMeter_in_2018</th>\n",
              "      <th>avg_PricePerSquareMeter_in_2019</th>\n",
              "      <th>percentage_of_increase_in_5_years</th>\n",
              "    </tr>\n",
              "  </thead>\n",
              "  <tbody>\n",
              "    <tr>\n",
              "      <th>16</th>\n",
              "      <td>CASTANET TOLOSAN</td>\n",
              "      <td>3289</td>\n",
              "      <td>3316</td>\n",
              "      <td>3854</td>\n",
              "      <td>4496</td>\n",
              "      <td>5421</td>\n",
              "      <td>64.822134</td>\n",
              "    </tr>\n",
              "    <tr>\n",
              "      <th>24</th>\n",
              "      <td>TOULOUSE</td>\n",
              "      <td>19408</td>\n",
              "      <td>8502</td>\n",
              "      <td>11858</td>\n",
              "      <td>5588</td>\n",
              "      <td>25310</td>\n",
              "      <td>30.410140</td>\n",
              "    </tr>\n",
              "    <tr>\n",
              "      <th>6</th>\n",
              "      <td>BEAUZELLE</td>\n",
              "      <td>3225</td>\n",
              "      <td>3086</td>\n",
              "      <td>3330</td>\n",
              "      <td>3299</td>\n",
              "      <td>3988</td>\n",
              "      <td>23.658915</td>\n",
              "    </tr>\n",
              "    <tr>\n",
              "      <th>21</th>\n",
              "      <td>SAINT-ORENS-DE-GAMEVILLE</td>\n",
              "      <td>2964</td>\n",
              "      <td>3137</td>\n",
              "      <td>5535</td>\n",
              "      <td>3328</td>\n",
              "      <td>3502</td>\n",
              "      <td>18.151147</td>\n",
              "    </tr>\n",
              "    <tr>\n",
              "      <th>19</th>\n",
              "      <td>QUINT-FONSEGRIVES</td>\n",
              "      <td>2871</td>\n",
              "      <td>3733</td>\n",
              "      <td>3421</td>\n",
              "      <td>3251</td>\n",
              "      <td>3371</td>\n",
              "      <td>17.415535</td>\n",
              "    </tr>\n",
              "    <tr>\n",
              "      <th>2</th>\n",
              "      <td>LEGUEVIN</td>\n",
              "      <td>2537</td>\n",
              "      <td>2467</td>\n",
              "      <td>2351</td>\n",
              "      <td>2452</td>\n",
              "      <td>2759</td>\n",
              "      <td>8.750493</td>\n",
              "    </tr>\n",
              "    <tr>\n",
              "      <th>9</th>\n",
              "      <td>CORNEBARRIEU</td>\n",
              "      <td>2442</td>\n",
              "      <td>7795</td>\n",
              "      <td>2913</td>\n",
              "      <td>3364</td>\n",
              "      <td>2552</td>\n",
              "      <td>4.504505</td>\n",
              "    </tr>\n",
              "    <tr>\n",
              "      <th>20</th>\n",
              "      <td>COLOMIERS</td>\n",
              "      <td>2611</td>\n",
              "      <td>14674</td>\n",
              "      <td>2904</td>\n",
              "      <td>3421</td>\n",
              "      <td>2702</td>\n",
              "      <td>3.485255</td>\n",
              "    </tr>\n",
              "    <tr>\n",
              "      <th>12</th>\n",
              "      <td>BALMA</td>\n",
              "      <td>3102</td>\n",
              "      <td>3944</td>\n",
              "      <td>3759</td>\n",
              "      <td>3434</td>\n",
              "      <td>3183</td>\n",
              "      <td>2.611219</td>\n",
              "    </tr>\n",
              "    <tr>\n",
              "      <th>15</th>\n",
              "      <td>CUGNAUX</td>\n",
              "      <td>2558</td>\n",
              "      <td>6856</td>\n",
              "      <td>18759</td>\n",
              "      <td>2929</td>\n",
              "      <td>2599</td>\n",
              "      <td>1.602815</td>\n",
              "    </tr>\n",
              "    <tr>\n",
              "      <th>14</th>\n",
              "      <td>ESCALQUENS</td>\n",
              "      <td>2795</td>\n",
              "      <td>2869</td>\n",
              "      <td>2698</td>\n",
              "      <td>2792</td>\n",
              "      <td>2802</td>\n",
              "      <td>0.250447</td>\n",
              "    </tr>\n",
              "    <tr>\n",
              "      <th>5</th>\n",
              "      <td>TOURNEFEUILLE</td>\n",
              "      <td>3331</td>\n",
              "      <td>8406</td>\n",
              "      <td>3855</td>\n",
              "      <td>3856</td>\n",
              "      <td>3215</td>\n",
              "      <td>-3.482438</td>\n",
              "    </tr>\n",
              "    <tr>\n",
              "      <th>1</th>\n",
              "      <td>FENOUILLET</td>\n",
              "      <td>2074</td>\n",
              "      <td>2620</td>\n",
              "      <td>2383</td>\n",
              "      <td>2917</td>\n",
              "      <td>2000</td>\n",
              "      <td>-3.567985</td>\n",
              "    </tr>\n",
              "    <tr>\n",
              "      <th>23</th>\n",
              "      <td>LABEGE</td>\n",
              "      <td>2609</td>\n",
              "      <td>4791</td>\n",
              "      <td>2832</td>\n",
              "      <td>2897</td>\n",
              "      <td>2444</td>\n",
              "      <td>-6.324262</td>\n",
              "    </tr>\n",
              "    <tr>\n",
              "      <th>13</th>\n",
              "      <td>VIEILLE TOULOUSE</td>\n",
              "      <td>3997</td>\n",
              "      <td>4326</td>\n",
              "      <td>2960</td>\n",
              "      <td>3463</td>\n",
              "      <td>3668</td>\n",
              "      <td>-8.231173</td>\n",
              "    </tr>\n",
              "    <tr>\n",
              "      <th>3</th>\n",
              "      <td>PORTET SUR GARONNE</td>\n",
              "      <td>2360</td>\n",
              "      <td>2635</td>\n",
              "      <td>3385</td>\n",
              "      <td>2720</td>\n",
              "      <td>2113</td>\n",
              "      <td>-10.466102</td>\n",
              "    </tr>\n",
              "    <tr>\n",
              "      <th>22</th>\n",
              "      <td>AUZEVILLE-TOLOSANE</td>\n",
              "      <td>4408</td>\n",
              "      <td>2630</td>\n",
              "      <td>3149</td>\n",
              "      <td>3504</td>\n",
              "      <td>2538</td>\n",
              "      <td>-42.422868</td>\n",
              "    </tr>\n",
              "    <tr>\n",
              "      <th>0</th>\n",
              "      <td>BLAGNAC</td>\n",
              "      <td>5563</td>\n",
              "      <td>18694</td>\n",
              "      <td>4652</td>\n",
              "      <td>3397</td>\n",
              "      <td>3050</td>\n",
              "      <td>-45.173468</td>\n",
              "    </tr>\n",
              "    <tr>\n",
              "      <th>17</th>\n",
              "      <td>L UNION</td>\n",
              "      <td>3075</td>\n",
              "      <td>3118</td>\n",
              "      <td>6790</td>\n",
              "      <td>3174</td>\n",
              "      <td>1541</td>\n",
              "      <td>-49.886179</td>\n",
              "    </tr>\n",
              "    <tr>\n",
              "      <th>10</th>\n",
              "      <td>PLAISANCE DU TOUCH</td>\n",
              "      <td>7431</td>\n",
              "      <td>2554</td>\n",
              "      <td>2625</td>\n",
              "      <td>2766</td>\n",
              "      <td>2832</td>\n",
              "      <td>-61.889382</td>\n",
              "    </tr>\n",
              "    <tr>\n",
              "      <th>4</th>\n",
              "      <td>VILLENEUVE TOLOSANE</td>\n",
              "      <td>10182</td>\n",
              "      <td>3460</td>\n",
              "      <td>3588</td>\n",
              "      <td>2658</td>\n",
              "      <td>2563</td>\n",
              "      <td>-74.828128</td>\n",
              "    </tr>\n",
              "    <tr>\n",
              "      <th>8</th>\n",
              "      <td>RAMONVILLE-SAINT-AGNE</td>\n",
              "      <td>13547</td>\n",
              "      <td>8370</td>\n",
              "      <td>4590</td>\n",
              "      <td>2836</td>\n",
              "      <td>2862</td>\n",
              "      <td>-78.873551</td>\n",
              "    </tr>\n",
              "    <tr>\n",
              "      <th>11</th>\n",
              "      <td>MURET</td>\n",
              "      <td>10501</td>\n",
              "      <td>3411</td>\n",
              "      <td>3906</td>\n",
              "      <td>2390</td>\n",
              "      <td>2112</td>\n",
              "      <td>-79.887630</td>\n",
              "    </tr>\n",
              "    <tr>\n",
              "      <th>7</th>\n",
              "      <td>PIBRAC</td>\n",
              "      <td>31822</td>\n",
              "      <td>3021</td>\n",
              "      <td>3147</td>\n",
              "      <td>2845</td>\n",
              "      <td>4797</td>\n",
              "      <td>-84.925523</td>\n",
              "    </tr>\n",
              "    <tr>\n",
              "      <th>25</th>\n",
              "      <td>AUCAMVILLE</td>\n",
              "      <td>25193</td>\n",
              "      <td>4913</td>\n",
              "      <td>2580</td>\n",
              "      <td>2813</td>\n",
              "      <td>2471</td>\n",
              "      <td>-90.191720</td>\n",
              "    </tr>\n",
              "    <tr>\n",
              "      <th>18</th>\n",
              "      <td>SAINT-JEAN</td>\n",
              "      <td>44756</td>\n",
              "      <td>3102</td>\n",
              "      <td>3436</td>\n",
              "      <td>2851</td>\n",
              "      <td>2905</td>\n",
              "      <td>-93.509250</td>\n",
              "    </tr>\n",
              "  </tbody>\n",
              "</table>\n",
              "</div>\n",
              "      <button class=\"colab-df-convert\" onclick=\"convertToInteractive('df-6ff27eb3-3fb6-49bc-91c1-3c8f5e4c791d')\"\n",
              "              title=\"Convert this dataframe to an interactive table.\"\n",
              "              style=\"display:none;\">\n",
              "        \n",
              "  <svg xmlns=\"http://www.w3.org/2000/svg\" height=\"24px\"viewBox=\"0 0 24 24\"\n",
              "       width=\"24px\">\n",
              "    <path d=\"M0 0h24v24H0V0z\" fill=\"none\"/>\n",
              "    <path d=\"M18.56 5.44l.94 2.06.94-2.06 2.06-.94-2.06-.94-.94-2.06-.94 2.06-2.06.94zm-11 1L8.5 8.5l.94-2.06 2.06-.94-2.06-.94L8.5 2.5l-.94 2.06-2.06.94zm10 10l.94 2.06.94-2.06 2.06-.94-2.06-.94-.94-2.06-.94 2.06-2.06.94z\"/><path d=\"M17.41 7.96l-1.37-1.37c-.4-.4-.92-.59-1.43-.59-.52 0-1.04.2-1.43.59L10.3 9.45l-7.72 7.72c-.78.78-.78 2.05 0 2.83L4 21.41c.39.39.9.59 1.41.59.51 0 1.02-.2 1.41-.59l7.78-7.78 2.81-2.81c.8-.78.8-2.07 0-2.86zM5.41 20L4 18.59l7.72-7.72 1.47 1.35L5.41 20z\"/>\n",
              "  </svg>\n",
              "      </button>\n",
              "      \n",
              "  <style>\n",
              "    .colab-df-container {\n",
              "      display:flex;\n",
              "      flex-wrap:wrap;\n",
              "      gap: 12px;\n",
              "    }\n",
              "\n",
              "    .colab-df-convert {\n",
              "      background-color: #E8F0FE;\n",
              "      border: none;\n",
              "      border-radius: 50%;\n",
              "      cursor: pointer;\n",
              "      display: none;\n",
              "      fill: #1967D2;\n",
              "      height: 32px;\n",
              "      padding: 0 0 0 0;\n",
              "      width: 32px;\n",
              "    }\n",
              "\n",
              "    .colab-df-convert:hover {\n",
              "      background-color: #E2EBFA;\n",
              "      box-shadow: 0px 1px 2px rgba(60, 64, 67, 0.3), 0px 1px 3px 1px rgba(60, 64, 67, 0.15);\n",
              "      fill: #174EA6;\n",
              "    }\n",
              "\n",
              "    [theme=dark] .colab-df-convert {\n",
              "      background-color: #3B4455;\n",
              "      fill: #D2E3FC;\n",
              "    }\n",
              "\n",
              "    [theme=dark] .colab-df-convert:hover {\n",
              "      background-color: #434B5C;\n",
              "      box-shadow: 0px 1px 3px 1px rgba(0, 0, 0, 0.15);\n",
              "      filter: drop-shadow(0px 1px 2px rgba(0, 0, 0, 0.3));\n",
              "      fill: #FFFFFF;\n",
              "    }\n",
              "  </style>\n",
              "\n",
              "      <script>\n",
              "        const buttonEl =\n",
              "          document.querySelector('#df-6ff27eb3-3fb6-49bc-91c1-3c8f5e4c791d button.colab-df-convert');\n",
              "        buttonEl.style.display =\n",
              "          google.colab.kernel.accessAllowed ? 'block' : 'none';\n",
              "\n",
              "        async function convertToInteractive(key) {\n",
              "          const element = document.querySelector('#df-6ff27eb3-3fb6-49bc-91c1-3c8f5e4c791d');\n",
              "          const dataTable =\n",
              "            await google.colab.kernel.invokeFunction('convertToInteractive',\n",
              "                                                     [key], {});\n",
              "          if (!dataTable) return;\n",
              "\n",
              "          const docLinkHtml = 'Like what you see? Visit the ' +\n",
              "            '<a target=\"_blank\" href=https://colab.research.google.com/notebooks/data_table.ipynb>data table notebook</a>'\n",
              "            + ' to learn more about interactive tables.';\n",
              "          element.innerHTML = '';\n",
              "          dataTable['output_type'] = 'display_data';\n",
              "          await google.colab.output.renderOutput(dataTable, element);\n",
              "          const docLink = document.createElement('div');\n",
              "          docLink.innerHTML = docLinkHtml;\n",
              "          element.appendChild(docLink);\n",
              "        }\n",
              "      </script>\n",
              "    </div>\n",
              "  </div>\n",
              "  "
            ]
          },
          "metadata": {},
          "execution_count": 98
        }
      ]
    },
    {
      "cell_type": "markdown",
      "source": [
        "------------\n",
        "#<font color='#00b8ff'> **RESULTS**\n",
        "------------\n",
        "Thanks to the DataFrame above we can see that the top 3 cities in term of increase in the price per square meter are CASTANET TOLOSAN with 65% increase in 5 years, TOULOUSE with 30% and BEAUZELLE with 24%.\n",
        "\n",
        "On the contrary, SAINT-JEAN had a decrease of 94% in five years which is quite surprising. It could be interesting to do a more in-depth analysis of its sales. \n",
        "\n",
        "Only 11 cities out of 26 have seen an increase in their price per square meter over these five years.\n",
        "\n",
        "=> it could be interesting for Immo-iv to focus its future investments on the top 3 cities : CASTANET TOLOSAN, TOULOUSE and BEAUZELLE.\n",
        "\n",
        "------------"
      ],
      "metadata": {
        "id": "zBmLff62fC6A"
      }
    },
    {
      "cell_type": "markdown",
      "source": [
        "------------------------------\n",
        "# <font color=\"#9600ff\"> **II. EVOLUTION OF THE NUMBER OF SALES**\n",
        "------------------------------"
      ],
      "metadata": {
        "id": "Q_NZJAJDiFLa"
      }
    },
    {
      "cell_type": "markdown",
      "source": [
        "**We want to analyze the global evolution of the number of sales between 2015 and 2019.**"
      ],
      "metadata": {
        "id": "Vdfh5LlLiaoD"
      }
    },
    {
      "cell_type": "markdown",
      "source": [
        "**1) We want to split the SaleDate into Years Months and Days in order to analyze the evolution of price per year.**"
      ],
      "metadata": {
        "id": "KgC59yLvjSpZ"
      }
    },
    {
      "cell_type": "code",
      "source": [
        "# importing all from pyspark.sql.function\n",
        "from pyspark.sql.functions import *\n",
        "\n",
        "# split() function defining parameters\n",
        "split_cols = pyspark.sql.functions.split(real_estate_df['SaleDate'], '/')\n",
        "  \n",
        "# Now applying split() using withColumn()\n",
        "real_estate_split_date_df = real_estate_df.withColumn('Year', split_cols.getItem(2)) \\\n",
        "    .withColumn('Month', split_cols.getItem(1)) \\\n",
        "    .withColumn('Day', split_cols.getItem(0))\n",
        "\n",
        "#create the temporary view from the DataFrame\n",
        "real_estate_split_date_df.createOrReplaceTempView('real_estate_split_date')"
      ],
      "metadata": {
        "id": "O6Ux_2RQisiW"
      },
      "execution_count": null,
      "outputs": []
    },
    {
      "cell_type": "markdown",
      "source": [
        "**2) We count the number of sales per year**"
      ],
      "metadata": {
        "id": "PVFznMHXj4hq"
      }
    },
    {
      "cell_type": "code",
      "source": [
        "residences_sold_by_year_df = spark.sql (\" SELECT \\\n",
        "    (SELECT COUNT(*) FROM real_estate_split_date WHERE Year='2015') as 2015_sales, \\\n",
        "    (SELECT COUNT(*) FROM real_estate_split_date WHERE Year='2016') as 2016_sales, \\\n",
        "    (SELECT COUNT(*) FROM real_estate_split_date WHERE Year='2017') as 2017_sales, \\\n",
        "    (SELECT COUNT(*) FROM real_estate_split_date WHERE Year='2018') as 2018_sales, \\\n",
        "    (SELECT COUNT(*) FROM real_estate_split_date WHERE Year='2019') as 2019_sales \")\n",
        "residences_sold_by_year_df.show()"
      ],
      "metadata": {
        "colab": {
          "base_uri": "https://localhost:8080/"
        },
        "id": "1eTdyLJpkSXk",
        "outputId": "7d5effa9-5202-47fe-a948-64ab4586141c"
      },
      "execution_count": null,
      "outputs": [
        {
          "output_type": "stream",
          "name": "stdout",
          "text": [
            "+----------+----------+----------+----------+----------+\n",
            "|2015_sales|2016_sales|2017_sales|2018_sales|2019_sales|\n",
            "+----------+----------+----------+----------+----------+\n",
            "|     18476|     18444|     20852|     16637|      5709|\n",
            "+----------+----------+----------+----------+----------+\n",
            "\n"
          ]
        }
      ]
    },
    {
      "cell_type": "markdown",
      "source": [
        "**3) Data Visualization**"
      ],
      "metadata": {
        "id": "Uy25JrGvk1Dy"
      }
    },
    {
      "cell_type": "code",
      "source": [
        "# Import pandas and matplotlib \n",
        "import pandas as pd\n",
        "import matplotlib.pyplot as plt\n",
        "# A dictionary which represents data\n",
        "residences_sold_by_year_dict = { 'year':['2015','2016','2017','2018','2019'],\n",
        "              'number_of_sales':[18476,18444,20852,16637,5709],\n",
        "              }\n",
        "  \n",
        "# creating a data frame object\n",
        "residences_sold_by_year_pandas_df = pd.DataFrame(residences_sold_by_year_dict)\n",
        "print(residences_sold_by_year_pandas_df)\n",
        "\n",
        "# we plot our results\n",
        "residences_sold_by_year_pandas_df.plot(x = 'year', y='number_of_sales', kind='line', color='#00bfaf')\t\n",
        "plt.show()"
      ],
      "metadata": {
        "colab": {
          "base_uri": "https://localhost:8080/",
          "height": 381
        },
        "id": "VXArkGjblPh2",
        "outputId": "0f3725a7-9608-4dc8-aa64-0cfc8fab6f27"
      },
      "execution_count": null,
      "outputs": [
        {
          "output_type": "stream",
          "name": "stdout",
          "text": [
            "   year  number_of_sales\n",
            "0  2015            18476\n",
            "1  2016            18444\n",
            "2  2017            20852\n",
            "3  2018            16637\n",
            "4  2019             5709\n"
          ]
        },
        {
          "output_type": "display_data",
          "data": {
            "text/plain": [
              "<Figure size 432x288 with 1 Axes>"
            ],
            "image/png": "[encoded data removed]"
          },
          "metadata": {
            "needs_background": "light"
          }
        }
      ]
    },
    {
      "cell_type": "markdown",
      "source": [
        "------------\n",
        "# <font color='#00b8ff'> **RESULTS**\n",
        "------------\n",
        "Thanks to the plot above we can see that the number of sales in toulouse and its suburbs droppped between 2017 and 2019.\n",
        "\n",
        "=> It could be interesting for Immo-Inv to analyze the political context of 2017 in order to understant why the number of sales dropped, to know if it is still interesting. \n",
        "\n",
        "------------"
      ],
      "metadata": {
        "id": "ciszmJSTmOUl"
      }
    },
    {
      "cell_type": "markdown",
      "source": [
        "------------------------------\n",
        "# <font color=\"#9600ff\"> **III. ANALYSIS OF SALES BEFORE COMPLETION**\n",
        "------------------------------"
      ],
      "metadata": {
        "id": "jgq3MCuvh6h4"
      }
    },
    {
      "cell_type": "markdown",
      "source": [
        "**1) We create a new dataframe with only the sales before completion**"
      ],
      "metadata": {
        "id": "1TaF9NTh8UBt"
      }
    },
    {
      "cell_type": "code",
      "source": [
        "sales_before_completion_df = spark.sql(\"SELECT * FROM real_estate WHERE SaleType='SALE BEFORE COMPLETION' \")\n",
        "\n",
        "#create the temporary view from the DataFrame\n",
        "sales_before_completion_df.createOrReplaceTempView('sales_before_completion')\n"
      ],
      "metadata": {
        "id": "q-YD5mNk8XEh"
      },
      "execution_count": null,
      "outputs": []
    },
    {
      "cell_type": "markdown",
      "source": [
        "**2) We want to count the total number of apartment and house sold before completion**"
      ],
      "metadata": {
        "id": "-yzmTQA0-KpN"
      }
    },
    {
      "cell_type": "code",
      "source": [
        "distinct_house_count_df = spark.sql(\" SELECT COUNT(ResidenceType) as house_count \\\n",
        "                                      FROM sales_before_completion WHERE ResidenceType='HOUSE' \")\n",
        "distinct_house_count_df.show()\n",
        "\n",
        "distinct_apartment_count_df = spark.sql(\" SELECT COUNT(ResidenceType) as apartment_count \\\n",
        "                                          FROM sales_before_completion WHERE ResidenceType='APARTMENT' \")\n",
        "distinct_apartment_count_df.show()\n",
        "\n",
        "# Import pyspark.pandas and matplotlib \n",
        "import pandas as pd\n",
        "import matplotlib.pyplot as plt\n",
        "# Convert the dataframe to a panda DataFrame\n",
        "sales_before_completion_pandas_df = sales_before_completion_df.toPandas()\n",
        "# we plot our results\n",
        "plt.hist(sales_before_completion_pandas_df['ResidenceType'], color='#f5b5db', edgecolor='black', bins=3)\n",
        "plt.xlabel('Residence Type')\n",
        "plt.ylabel('Nb. of Residences')\n",
        "plt.title('Distribution of the residence type of the sales before completion')\n",
        "plt.show()"
      ],
      "metadata": {
        "colab": {
          "base_uri": "https://localhost:8080/",
          "height": 499
        },
        "id": "SFHN8Hra-LAz",
        "outputId": "86105fdd-9d5f-412b-9e92-509ae322889a"
      },
      "execution_count": null,
      "outputs": [
        {
          "output_type": "stream",
          "name": "stdout",
          "text": [
            "+-----------+\n",
            "|house_count|\n",
            "+-----------+\n",
            "|        721|\n",
            "+-----------+\n",
            "\n",
            "+---------------+\n",
            "|apartment_count|\n",
            "+---------------+\n",
            "|          12709|\n",
            "+---------------+\n",
            "\n"
          ]
        },
        {
          "output_type": "display_data",
          "data": {
            "text/plain": [
              "<Figure size 432x288 with 1 Axes>"
            ],
            "image/png": "[encoded data removed]"
          },
          "metadata": {
            "needs_background": "light"
          }
        }
      ]
    },
    {
      "cell_type": "markdown",
      "source": [
        "***We can see that most of the sales realised before completion are apartments.***\n",
        "\n",
        "***This is why we will focus our analysis only on apartment.***"
      ],
      "metadata": {
        "id": "2dUz10y--idJ"
      }
    },
    {
      "cell_type": "markdown",
      "source": [
        "**3) We create a new dataframe with only apartments sold before completion**"
      ],
      "metadata": {
        "id": "QTBRYQaK8idq"
      }
    },
    {
      "cell_type": "code",
      "source": [
        "sales_before_completion_apartment_df = spark.sql(\"SELECT * FROM sales_before_completion WHERE ResidenceType='APARTMENT' \")\n",
        "\n",
        "#create the temporary view from the DataFrame\n",
        "sales_before_completion_apartment_df.createOrReplaceTempView('sales_before_completion_apartment')\n"
      ],
      "metadata": {
        "id": "G2m8s18T8k1J"
      },
      "execution_count": null,
      "outputs": []
    },
    {
      "cell_type": "markdown",
      "source": [
        "**4) We want to count the total number of rooms in apartments sold before completion**"
      ],
      "metadata": {
        "id": "X0gWmp7qBdOP"
      }
    },
    {
      "cell_type": "code",
      "source": [
        "average_NbRooms_df = spark.sql(\"SELECT City, avg(NbRooms) as average_NbRooms \\\n",
        "                             FROM sales_before_completion_apartment \\\n",
        "                             GROUP BY City \")\n",
        "average_NbRooms_df.show()"
      ],
      "metadata": {
        "colab": {
          "base_uri": "https://localhost:8080/"
        },
        "id": "Czp-1QrqBtcR",
        "outputId": "50f48187-3b4e-41c3-8140-b1a0655ff3ff"
      },
      "execution_count": null,
      "outputs": [
        {
          "output_type": "stream",
          "name": "stdout",
          "text": [
            "+--------------------+------------------+\n",
            "|                City|   average_NbRooms|\n",
            "+--------------------+------------------+\n",
            "|             BLAGNAC|2.6294642857142856|\n",
            "|          FENOUILLET|2.7714285714285714|\n",
            "|            LEGUEVIN|2.4444444444444446|\n",
            "|  PORTET SUR GARONNE| 2.617021276595745|\n",
            "| VILLENEUVE TOLOSANE|2.8217821782178216|\n",
            "|       TOURNEFEUILLE| 2.547752808988764|\n",
            "|           BEAUZELLE|2.6715328467153285|\n",
            "|              PIBRAC| 2.364864864864865|\n",
            "|RAMONVILLE-SAINT-...|3.1578947368421053|\n",
            "|        CORNEBARRIEU|2.4895104895104896|\n",
            "|  PLAISANCE DU TOUCH|               2.4|\n",
            "|               MURET|               3.0|\n",
            "|               BALMA|3.0777027027027026|\n",
            "|          ESCALQUENS|          2.484375|\n",
            "|             CUGNAUX| 2.671597633136095|\n",
            "|    CASTANET TOLOSAN|2.4951923076923075|\n",
            "|             L UNION|           2.53125|\n",
            "|          SAINT-JEAN| 2.676348547717842|\n",
            "|   QUINT-FONSEGRIVES| 2.672268907563025|\n",
            "|           COLOMIERS| 2.494661921708185|\n",
            "+--------------------+------------------+\n",
            "only showing top 20 rows\n",
            "\n"
          ]
        }
      ]
    },
    {
      "cell_type": "markdown",
      "source": [
        "**This dataframe emphasizes that the average number of rooms is fairly similar in all Cities. Most of the residences sold before completion are apartments with 2 or 3 rooms.**"
      ],
      "metadata": {
        "id": "k-qqwwxUC9NZ"
      }
    },
    {
      "cell_type": "markdown",
      "source": [
        "**5) We want to analyze if the number of sales before completion has increased or decreased significantly during 2015 and 2019.**"
      ],
      "metadata": {
        "id": "nUNbUkrxHF-1"
      }
    },
    {
      "cell_type": "code",
      "source": [
        "# WE SPLIT THE SALEDATE\n",
        "# importing all from pyspark.sql.function\n",
        "from pyspark.sql.functions import *\n",
        "\n",
        "# split() function defining parameters\n",
        "split_cols = pyspark.sql.functions.split(sales_before_completion_apartment_df['SaleDate'], '/')\n",
        "  \n",
        "# Now applying split() using withColumn()\n",
        "sales_before_completion_apartment_year_df = sales_before_completion_apartment_df.withColumn('Year', split_cols.getItem(2)) \\\n",
        "    .withColumn('Month', split_cols.getItem(1)) \\\n",
        "    .withColumn('Day', split_cols.getItem(0))\n",
        "\n",
        "#create the temporary view from the DataFrame\n",
        "sales_before_completion_apartment_year_df.createOrReplaceTempView('sales_before_completion_apartment_year')\n"
      ],
      "metadata": {
        "id": "5Dnyy6ClIgrr"
      },
      "execution_count": null,
      "outputs": []
    },
    {
      "cell_type": "code",
      "source": [
        "#NUMBER OF SALES BEFORE COMPLETION PER YEAR\n",
        "Number_of_sales_before_completion_df = spark.sql(\"SELECT Year, COUNT(Year) as Number_of_sales_before_completion \\\n",
        "                                                  FROM sales_before_completion_apartment_year \\\n",
        "                                                  GROUP BY Year \\\n",
        "                                                  ORDER BY Year asc \")"
      ],
      "metadata": {
        "id": "Qj_MtVT0L-ne"
      },
      "execution_count": null,
      "outputs": []
    },
    {
      "cell_type": "code",
      "source": [
        "#WE PLOT THE NUMBER OF SALES BEFORE COMPLETION PER YEAR\n",
        "# Import pyspark.pandas and matplotlib \n",
        "import pandas as pd\n",
        "import matplotlib.pyplot as plt\n",
        "# Convert the dataframe to a panda DataFrame\n",
        "Number_of_sales_before_completion_df = Number_of_sales_before_completion_df.toPandas()\n",
        "\n",
        "# we plot our results\n",
        "Number_of_sales_before_completion_df.plot(x='Year', y='Number_of_sales_before_completion', kind='line', color='#c90076')\t\n",
        "plt.show()"
      ],
      "metadata": {
        "colab": {
          "base_uri": "https://localhost:8080/",
          "height": 280
        },
        "id": "IXC7MU8ONSBz",
        "outputId": "8d676428-beef-44f3-cea5-1de2b09dc95e"
      },
      "execution_count": null,
      "outputs": [
        {
          "output_type": "display_data",
          "data": {
            "text/plain": [
              "<Figure size 432x288 with 1 Axes>"
            ],
            "image/png": "[encoded data removed]"
          },
          "metadata": {
            "needs_background": "light"
          }
        }
      ]
    },
    {
      "cell_type": "code",
      "source": [
        "#total_amount_spent per year\n",
        "price_per_year_df = spark.sql(\"SELECT Year, CAST(sum(Price) AS INT) as total_amount_spent \\\n",
        "                             FROM sales_before_completion_apartment_year \\\n",
        "                             GROUP BY Year \\\n",
        "                             ORDER BY Year asc \")"
      ],
      "metadata": {
        "id": "_lXxOa5jJAvH"
      },
      "execution_count": null,
      "outputs": []
    },
    {
      "cell_type": "code",
      "source": [
        "# Import pyspark.pandas and matplotlib \n",
        "import pandas as pd\n",
        "import matplotlib.pyplot as plt\n",
        "# Convert the dataframe to a panda DataFrame\n",
        "price_per_year_pandas_df = price_per_year_df.toPandas()\n",
        "\n",
        "# we plot our results\n",
        "price_per_year_pandas_df.plot(x='Year', y='total_amount_spent', kind='line', color='#c90076')\t\n",
        "plt.show()"
      ],
      "metadata": {
        "colab": {
          "base_uri": "https://localhost:8080/",
          "height": 290
        },
        "id": "01KJ7Rt6HNrZ",
        "outputId": "e538920c-18db-4a6e-fa07-d683100ca88e"
      },
      "execution_count": null,
      "outputs": [
        {
          "output_type": "display_data",
          "data": {
            "text/plain": [
              "<Figure size 432x288 with 1 Axes>"
            ],
            "image/png": "[encoded data removed]"
          },
          "metadata": {
            "needs_background": "light"
          }
        }
      ]
    },
    {
      "cell_type": "markdown",
      "source": [
        "***We can see that between 2017 and 2019, the number of sales before completion dropped. So does the total amount spent in residences sales before completion.***"
      ],
      "metadata": {
        "id": "sn-HEUbhSSzZ"
      }
    },
    {
      "cell_type": "markdown",
      "source": [
        "------------\n",
        "# <font color='#00b8ff'>**RESULTS**\n",
        "------------\n",
        "We can summarise our analysis with the following highlights:\n",
        "- Most of the residences sold before completion are apartments with 2 or 3 rooms, the average number of rooms is fairly similar in all Cities. \n",
        "- Between 2017 and 2019, the number of sales before completion dropped. So does the total amount spent in residences sales before completion. \n",
        "\n",
        "=> this drop is to be analyze in a context of a general drop of the number of sales between 2017 and 2019 (cf. II).\n",
        "\n",
        "------------"
      ],
      "metadata": {
        "id": "AQtCwtUBSda9"
      }
    },
    {
      "cell_type": "markdown",
      "source": [
        "------------------------------\n",
        "# <font color=\"#9600ff\"> **IV. ANALYSIS OF TOULOUSE MARKET**\n",
        "------------------------------"
      ],
      "metadata": {
        "id": "p8cXyRItilNj"
      }
    },
    {
      "cell_type": "markdown",
      "source": [
        "We want to draw the profile type of a sale realised in Toulouse during 2015 and 2019."
      ],
      "metadata": {
        "id": "DkLB86zTkJAx"
      }
    },
    {
      "cell_type": "markdown",
      "source": [
        "**1) We start by creating a new dataframe with only Toulouse sales**"
      ],
      "metadata": {
        "id": "7Lw67gYXitfv"
      }
    },
    {
      "cell_type": "code",
      "source": [
        "toulouse_df = spark.sql (\"SELECT* FROM real_estate \\\n",
        "                          WHERE City = 'TOULOUSE'\")\n",
        "\n",
        "toulouse_df.createOrReplaceTempView('toulouse')"
      ],
      "metadata": {
        "id": "AxkCi0sTjCC7"
      },
      "execution_count": null,
      "outputs": []
    },
    {
      "cell_type": "markdown",
      "source": [
        "**2) We begin by analyzing the  type of Residence of theses sales**"
      ],
      "metadata": {
        "id": "NtDwIja8keYI"
      }
    },
    {
      "cell_type": "code",
      "source": [
        "toulouse_Nb_of_house_sold_df = spark.sql (\" SELECT COUNT(ResidenceType) as Nb_of_house_sold \\\n",
        "                                     FROM toulouse \\\n",
        "                                     WHERE ResidenceType = 'HOUSE'\")\n",
        "toulouse_Nb_of_house_sold_df.show()\n",
        "toulouse_Nb_of_apartment_sold_df = spark.sql (\" SELECT COUNT(ResidenceType) as Nb_of_apartment_sold \\\n",
        "                                     FROM toulouse \\\n",
        "                                     WHERE ResidenceType = 'APARTMENT'\")\n",
        "toulouse_Nb_of_apartment_sold_df.show() \n",
        "\n",
        "# Import pyspark.pandas and matplotlib \n",
        "import pandas as pd\n",
        "import matplotlib.pyplot as plt\n",
        "# Convert the dataframe to a panda DataFrame\n",
        "toulouse_pandas_df = toulouse_df.toPandas()\n",
        "# we plot our results\n",
        "plt.hist(toulouse_pandas_df['ResidenceType'], color='#c38ef2', edgecolor='black', bins=3)\n",
        "plt.xlabel('Residence Type')\n",
        "plt.ylabel('Nb. of Residences')\n",
        "plt.title('Distribution of the type of residence of sales in Toulouse')\n",
        "plt.show()"
      ],
      "metadata": {
        "colab": {
          "base_uri": "https://localhost:8080/",
          "height": 499
        },
        "id": "rtd7Rg3JkjqP",
        "outputId": "ed6de6cb-03bc-4283-b7a9-69b5b1ff1fc3"
      },
      "execution_count": null,
      "outputs": [
        {
          "output_type": "stream",
          "name": "stdout",
          "text": [
            "+----------------+\n",
            "|Nb_of_house_sold|\n",
            "+----------------+\n",
            "|            6191|\n",
            "+----------------+\n",
            "\n",
            "+--------------------+\n",
            "|Nb_of_apartment_sold|\n",
            "+--------------------+\n",
            "|               45606|\n",
            "+--------------------+\n",
            "\n"
          ]
        },
        {
          "output_type": "display_data",
          "data": {
            "text/plain": [
              "<Figure size 432x288 with 1 Axes>"
            ],
            "image/png": "[encoded data removed]"
          },
          "metadata": {
            "needs_background": "light"
          }
        }
      ]
    },
    {
      "cell_type": "markdown",
      "source": [
        "**3) We focus on apartment sales**"
      ],
      "metadata": {
        "id": "QZY9V7t0mPDB"
      }
    },
    {
      "cell_type": "code",
      "source": [
        "toulouse_apartment_df = spark.sql ( \" SELECT * FROM toulouse \\\n",
        "                                      WHERE ResidenceType='APARTMENT'\")\n",
        "toulouse_apartment_df.createOrReplaceTempView('toulouse_apartment')"
      ],
      "metadata": {
        "id": "ofA8f0M9mQQU"
      },
      "execution_count": null,
      "outputs": []
    },
    {
      "cell_type": "markdown",
      "source": [
        "**4) We want to know the mean price of sale, the average number of rooms of apartement sold, the average number of lots of apartement sold, their average meter of living area and the number of apartment sold by year. We are going to do this analysis by postcode.**"
      ],
      "metadata": {
        "id": "yQwWBjG1oKGv"
      }
    },
    {
      "cell_type": "code",
      "source": [
        "## MEAN PRICE\n",
        "\n",
        "mean_price_df = spark.sql (\" SELECT PostCode, CAST(avg(price) AS INT) as mean_price \\\n",
        "                              FROM toulouse_apartment \\\n",
        "                              GROUP BY PostCode \\\n",
        "                              ORDER BY mean_price desc\")"
      ],
      "metadata": {
        "id": "RHI2na2Cog-k"
      },
      "execution_count": null,
      "outputs": []
    },
    {
      "cell_type": "code",
      "source": [
        "## AVERAGE NUMBER OF ROOMS\n",
        "\n",
        "average_number_of_rooms_df = spark.sql (\" SELECT PostCode, avg(NbRooms) as average_number_of_rooms \\\n",
        "                              FROM toulouse_apartment \\\n",
        "                              GROUP BY PostCode \\\n",
        "                              ORDER BY average_number_of_rooms desc\")"
      ],
      "metadata": {
        "id": "RVTVaGKfqyRh"
      },
      "execution_count": null,
      "outputs": []
    },
    {
      "cell_type": "code",
      "source": [
        "## AVERAGE NUMBER OF LOTS\n",
        "\n",
        "average_number_of_lots_df = spark.sql (\" SELECT PostCode, avg(NbLots) as average_number_of_lots \\\n",
        "                              FROM toulouse_apartment \\\n",
        "                              GROUP BY PostCode \\\n",
        "                              ORDER BY average_number_of_lots desc\")"
      ],
      "metadata": {
        "id": "cLilzmfPqROk"
      },
      "execution_count": null,
      "outputs": []
    },
    {
      "cell_type": "code",
      "source": [
        "## AVERAGE METER OF LIVING AREA \n",
        "\n",
        "average_meter_of_living_area_df = spark.sql (\" SELECT PostCode, CAST(avg(LivingArea) AS INT) as average_meter_of_living_area \\\n",
        "                              FROM toulouse_apartment \\\n",
        "                              GROUP BY PostCode \\\n",
        "                              ORDER BY average_meter_of_living_area desc\")"
      ],
      "metadata": {
        "id": "aDUw7N6kr54R"
      },
      "execution_count": null,
      "outputs": []
    },
    {
      "cell_type": "code",
      "source": [
        "# WE GROUP ALL THE RESULT IN ONE DATAFRAME\n",
        "#create the temporary views from the DataFrames\n",
        "mean_price_df.createOrReplaceTempView('mean_price')\n",
        "average_number_of_rooms_df.createOrReplaceTempView('average_number_of_rooms')\n",
        "average_number_of_lots_df.createOrReplaceTempView('average_number_of_lots')\n",
        "average_meter_of_living_area_df.createOrReplaceTempView('average_meter_of_living_area')\n",
        "\n",
        "# join \n",
        "analysis_by_PostCode_join_df = spark.sql(\" SELECT *\\\n",
        "                                        FROM mean_price \\\n",
        "                                        JOIN average_number_of_rooms \\\n",
        "                                        ON mean_price.PostCode = average_number_of_rooms.PostCode \\\n",
        "                                        JOIN average_number_of_lots \\\n",
        "                                        ON average_number_of_lots.PostCode = average_number_of_rooms.PostCode \\\n",
        "                                        JOIN average_meter_of_living_area \\\n",
        "                                        ON average_meter_of_living_area.PostCode = average_number_of_rooms.PostCode\")\n",
        "\n",
        "#Import pyspark.pandas  \n",
        "import pandas as pd\n",
        "\n",
        "#Convert the dataframe to a panda DataFrame\n",
        "analysis_by_PostCode_join_pandas_df = analysis_by_PostCode_join_df.toPandas()\n",
        "\n",
        "#Rename columns\n",
        "analysis_by_PostCode_join_pandas_df.set_axis(['PostCode', 'mean_price', 'a','average_number_of_rooms','b','average_number_of_lots', 'c', 'average_meter_of_living_area'], axis='columns', inplace=True)\n",
        "\n",
        "#delete the column a,b,c and d dataframe \n",
        "final_analysis_by_PostCode_df = analysis_by_PostCode_join_pandas_df[['PostCode', 'mean_price', 'average_number_of_rooms', 'average_number_of_lots', 'average_meter_of_living_area']]\n",
        "\n",
        "#display the dataframe \n",
        "final_analysis_by_PostCode_df"
      ],
      "metadata": {
        "colab": {
          "base_uri": "https://localhost:8080/",
          "height": 235
        },
        "id": "kY7rltUb8lVC",
        "outputId": "6ce85cec-5332-4f63-b872-2f7c2d064e95"
      },
      "execution_count": null,
      "outputs": [
        {
          "output_type": "execute_result",
          "data": {
            "text/plain": [
              "  PostCode  mean_price  average_number_of_rooms  average_number_of_lots  \\\n",
              "0    31400      934699                 2.428754                1.228823   \n",
              "1    31000      354160                 2.297268                1.297268   \n",
              "2    31500      623104                 2.712010                1.339841   \n",
              "3    31200      473778                 2.665601                1.112319   \n",
              "4    31300      768282                 2.581226                1.252909   \n",
              "5    31100      974907                 2.666597                1.098973   \n",
              "\n",
              "   average_meter_of_living_area  \n",
              "0                            51  \n",
              "1                            53  \n",
              "2                            57  \n",
              "3                            55  \n",
              "4                            54  \n",
              "5                            55  "
            ],
            "text/html": [
              "\n",
              "  <div id=\"df-cb436ed5-b935-4d44-8e5a-6e7925f37258\">\n",
              "    <div class=\"colab-df-container\">\n",
              "      <div>\n",
              "<style scoped>\n",
              "    .dataframe tbody tr th:only-of-type {\n",
              "        vertical-align: middle;\n",
              "    }\n",
              "\n",
              "    .dataframe tbody tr th {\n",
              "        vertical-align: top;\n",
              "    }\n",
              "\n",
              "    .dataframe thead th {\n",
              "        text-align: right;\n",
              "    }\n",
              "</style>\n",
              "<table border=\"1\" class=\"dataframe\">\n",
              "  <thead>\n",
              "    <tr style=\"text-align: right;\">\n",
              "      <th></th>\n",
              "      <th>PostCode</th>\n",
              "      <th>mean_price</th>\n",
              "      <th>average_number_of_rooms</th>\n",
              "      <th>average_number_of_lots</th>\n",
              "      <th>average_meter_of_living_area</th>\n",
              "    </tr>\n",
              "  </thead>\n",
              "  <tbody>\n",
              "    <tr>\n",
              "      <th>0</th>\n",
              "      <td>31400</td>\n",
              "      <td>934699</td>\n",
              "      <td>2.428754</td>\n",
              "      <td>1.228823</td>\n",
              "      <td>51</td>\n",
              "    </tr>\n",
              "    <tr>\n",
              "      <th>1</th>\n",
              "      <td>31000</td>\n",
              "      <td>354160</td>\n",
              "      <td>2.297268</td>\n",
              "      <td>1.297268</td>\n",
              "      <td>53</td>\n",
              "    </tr>\n",
              "    <tr>\n",
              "      <th>2</th>\n",
              "      <td>31500</td>\n",
              "      <td>623104</td>\n",
              "      <td>2.712010</td>\n",
              "      <td>1.339841</td>\n",
              "      <td>57</td>\n",
              "    </tr>\n",
              "    <tr>\n",
              "      <th>3</th>\n",
              "      <td>31200</td>\n",
              "      <td>473778</td>\n",
              "      <td>2.665601</td>\n",
              "      <td>1.112319</td>\n",
              "      <td>55</td>\n",
              "    </tr>\n",
              "    <tr>\n",
              "      <th>4</th>\n",
              "      <td>31300</td>\n",
              "      <td>768282</td>\n",
              "      <td>2.581226</td>\n",
              "      <td>1.252909</td>\n",
              "      <td>54</td>\n",
              "    </tr>\n",
              "    <tr>\n",
              "      <th>5</th>\n",
              "      <td>31100</td>\n",
              "      <td>974907</td>\n",
              "      <td>2.666597</td>\n",
              "      <td>1.098973</td>\n",
              "      <td>55</td>\n",
              "    </tr>\n",
              "  </tbody>\n",
              "</table>\n",
              "</div>\n",
              "      <button class=\"colab-df-convert\" onclick=\"convertToInteractive('df-cb436ed5-b935-4d44-8e5a-6e7925f37258')\"\n",
              "              title=\"Convert this dataframe to an interactive table.\"\n",
              "              style=\"display:none;\">\n",
              "        \n",
              "  <svg xmlns=\"http://www.w3.org/2000/svg\" height=\"24px\"viewBox=\"0 0 24 24\"\n",
              "       width=\"24px\">\n",
              "    <path d=\"M0 0h24v24H0V0z\" fill=\"none\"/>\n",
              "    <path d=\"M18.56 5.44l.94 2.06.94-2.06 2.06-.94-2.06-.94-.94-2.06-.94 2.06-2.06.94zm-11 1L8.5 8.5l.94-2.06 2.06-.94-2.06-.94L8.5 2.5l-.94 2.06-2.06.94zm10 10l.94 2.06.94-2.06 2.06-.94-2.06-.94-.94-2.06-.94 2.06-2.06.94z\"/><path d=\"M17.41 7.96l-1.37-1.37c-.4-.4-.92-.59-1.43-.59-.52 0-1.04.2-1.43.59L10.3 9.45l-7.72 7.72c-.78.78-.78 2.05 0 2.83L4 21.41c.39.39.9.59 1.41.59.51 0 1.02-.2 1.41-.59l7.78-7.78 2.81-2.81c.8-.78.8-2.07 0-2.86zM5.41 20L4 18.59l7.72-7.72 1.47 1.35L5.41 20z\"/>\n",
              "  </svg>\n",
              "      </button>\n",
              "      \n",
              "  <style>\n",
              "    .colab-df-container {\n",
              "      display:flex;\n",
              "      flex-wrap:wrap;\n",
              "      gap: 12px;\n",
              "    }\n",
              "\n",
              "    .colab-df-convert {\n",
              "      background-color: #E8F0FE;\n",
              "      border: none;\n",
              "      border-radius: 50%;\n",
              "      cursor: pointer;\n",
              "      display: none;\n",
              "      fill: #1967D2;\n",
              "      height: 32px;\n",
              "      padding: 0 0 0 0;\n",
              "      width: 32px;\n",
              "    }\n",
              "\n",
              "    .colab-df-convert:hover {\n",
              "      background-color: #E2EBFA;\n",
              "      box-shadow: 0px 1px 2px rgba(60, 64, 67, 0.3), 0px 1px 3px 1px rgba(60, 64, 67, 0.15);\n",
              "      fill: #174EA6;\n",
              "    }\n",
              "\n",
              "    [theme=dark] .colab-df-convert {\n",
              "      background-color: #3B4455;\n",
              "      fill: #D2E3FC;\n",
              "    }\n",
              "\n",
              "    [theme=dark] .colab-df-convert:hover {\n",
              "      background-color: #434B5C;\n",
              "      box-shadow: 0px 1px 3px 1px rgba(0, 0, 0, 0.15);\n",
              "      filter: drop-shadow(0px 1px 2px rgba(0, 0, 0, 0.3));\n",
              "      fill: #FFFFFF;\n",
              "    }\n",
              "  </style>\n",
              "\n",
              "      <script>\n",
              "        const buttonEl =\n",
              "          document.querySelector('#df-cb436ed5-b935-4d44-8e5a-6e7925f37258 button.colab-df-convert');\n",
              "        buttonEl.style.display =\n",
              "          google.colab.kernel.accessAllowed ? 'block' : 'none';\n",
              "\n",
              "        async function convertToInteractive(key) {\n",
              "          const element = document.querySelector('#df-cb436ed5-b935-4d44-8e5a-6e7925f37258');\n",
              "          const dataTable =\n",
              "            await google.colab.kernel.invokeFunction('convertToInteractive',\n",
              "                                                     [key], {});\n",
              "          if (!dataTable) return;\n",
              "\n",
              "          const docLinkHtml = 'Like what you see? Visit the ' +\n",
              "            '<a target=\"_blank\" href=https://colab.research.google.com/notebooks/data_table.ipynb>data table notebook</a>'\n",
              "            + ' to learn more about interactive tables.';\n",
              "          element.innerHTML = '';\n",
              "          dataTable['output_type'] = 'display_data';\n",
              "          await google.colab.output.renderOutput(dataTable, element);\n",
              "          const docLink = document.createElement('div');\n",
              "          docLink.innerHTML = docLinkHtml;\n",
              "          element.appendChild(docLink);\n",
              "        }\n",
              "      </script>\n",
              "    </div>\n",
              "  </div>\n",
              "  "
            ]
          },
          "metadata": {},
          "execution_count": 99
        }
      ]
    },
    {
      "cell_type": "markdown",
      "source": [
        "***This dataframe highlights that there is not a huge difference between the different post code in Toulouse, regarding the indicators calculated above.***\n",
        "***The only one which differs between postcode is the mean price. Indeed, there is a huge difference of 620747€ between the highest mean price (974907 in the 31100) and the lowest (354160 in the 31000).***"
      ],
      "metadata": {
        "id": "31Gean9LBgDu"
      }
    },
    {
      "cell_type": "code",
      "source": [
        "## NB OF APARTMENT SOLD BY YEAR\n",
        "\n",
        "# we split SaleDate into Year, Month and Day\n",
        "# importing all from pyspark.sql.function\n",
        "from pyspark.sql.functions import *\n",
        "\n",
        "# split() function defining parameters\n",
        "split_cols = pyspark.sql.functions.split(toulouse_apartment_df['SaleDate'], '/')\n",
        "  \n",
        "# Now applying split() using withColumn()\n",
        "toulouse_apartment_split_date_df = toulouse_apartment_df.withColumn('Year', split_cols.getItem(2)) \\\n",
        "    .withColumn('Month', split_cols.getItem(1)) \\\n",
        "    .withColumn('Day', split_cols.getItem(0))\n",
        "\n",
        "#create the temporary view from the DataFrame\n",
        "toulouse_apartment_split_date_df.createOrReplaceTempView('toulouse_apartment_split_date')\n",
        "\n",
        "# we count the number of apartment sold by year\n",
        "apartment_sold_by_year_df = spark.sql (\" SELECT \\\n",
        "    (SELECT COUNT(*) FROM toulouse_apartment_split_date WHERE Year='2015') as 2015_sales, \\\n",
        "    (SELECT COUNT(*) FROM toulouse_apartment_split_date WHERE Year='2016') as 2016_sales, \\\n",
        "    (SELECT COUNT(*) FROM toulouse_apartment_split_date WHERE Year='2017') as 2017_sales, \\\n",
        "    (SELECT COUNT(*) FROM toulouse_apartment_split_date WHERE Year='2018') as 2018_sales, \\\n",
        "    (SELECT COUNT(*) FROM toulouse_apartment_split_date WHERE Year='2019') as 2019_sales \")\n",
        "apartment_sold_by_year_df.show()\n",
        "\n",
        "# WE PLOT THE RESULTS\n",
        "#---------------------\n",
        "# Import matplotlib \n",
        "import matplotlib.pyplot as plt\n",
        "# A dictionary which represents data\n",
        "data_dict = { 'year':['2015','2016','2017','2018','2019'],\n",
        "              'number_of_sales':[10384,10371,12028,9272,3551],\n",
        "              }\n",
        "  \n",
        "# creating a data frame object\n",
        "df = pd.DataFrame(data_dict)\n",
        "print(df)\n",
        "\n",
        "# we plot our results\n",
        "df.plot(x = 'year', y='number_of_sales', kind='line', color='#b41fce')\t\n",
        "plt.show()"
      ],
      "metadata": {
        "colab": {
          "base_uri": "https://localhost:8080/",
          "height": 483
        },
        "id": "jEOxgeZisklC",
        "outputId": "406ef294-4cbe-4034-cf95-39a07fde65ec"
      },
      "execution_count": null,
      "outputs": [
        {
          "output_type": "stream",
          "name": "stdout",
          "text": [
            "+----------+----------+----------+----------+----------+\n",
            "|2015_sales|2016_sales|2017_sales|2018_sales|2019_sales|\n",
            "+----------+----------+----------+----------+----------+\n",
            "|     10384|     10371|     12028|      9272|      3551|\n",
            "+----------+----------+----------+----------+----------+\n",
            "\n",
            "   year  number_of_sales\n",
            "0  2015            10384\n",
            "1  2016            10371\n",
            "2  2017            12028\n",
            "3  2018             9272\n",
            "4  2019             3551\n"
          ]
        },
        {
          "output_type": "display_data",
          "data": {
            "text/plain": [
              "<Figure size 432x288 with 1 Axes>"
            ],
            "image/png": "[encoded data removed]"
          },
          "metadata": {
            "needs_background": "light"
          }
        }
      ]
    },
    {
      "cell_type": "markdown",
      "source": [
        "------------\n",
        "# <font color='#00b8ff'>**RESULTS**\n",
        "------------\n",
        "We can summarise our analysis with the following highlights:\n",
        "- there is not significant difference in sales between the different post code in Toulouse, regarding the indicators calculated above. The only one which differs between postcode is the mean price, whith a huge difference of 620747€ between the highest mean price (31100) and the lowest (31000) \n",
        "- the number of sales in Toulouse has dropped significantly since 2017.\n",
        "\n",
        "=> this drop is to be analyze in a context of a general drop of the number of sales between 2017 and 2019 (cf. II).\n",
        "\n",
        "------------"
      ],
      "metadata": {
        "id": "Qc18PNfPDEwJ"
      }
    },
    {
      "cell_type": "markdown",
      "source": [
        "------------------------------\n",
        "# <font color=\"#9600ff\"> **V. EVOLUTION OF THE MEAN LIVING AREA PER YEAR**\n",
        "------------------------------"
      ],
      "metadata": {
        "id": "Qd2U8LvAqdFh"
      }
    },
    {
      "cell_type": "markdown",
      "source": [
        "**We caculate the mean living area per year**"
      ],
      "metadata": {
        "id": "RSB-zu95qlhJ"
      }
    },
    {
      "cell_type": "code",
      "source": [
        "mean_living_area_per_year_df = spark.sql (\"SELECT Year, CAST(avg(LivingArea) AS INT) as mean_LivingArea\\\n",
        "                             FROM real_estate_split_date \\\n",
        "                             GROUP BY Year\\\n",
        "                             ORDER BY Year asc\")\n",
        "\n",
        "mean_living_area_per_year_df.show()"
      ],
      "metadata": {
        "colab": {
          "base_uri": "https://localhost:8080/"
        },
        "id": "-ummL5q-wZAI",
        "outputId": "8375abb2-2ec4-43bc-9ccd-e2fa44b96daf"
      },
      "execution_count": null,
      "outputs": [
        {
          "output_type": "stream",
          "name": "stdout",
          "text": [
            "+----+---------------+\n",
            "|Year|mean_LivingArea|\n",
            "+----+---------------+\n",
            "|2015|             66|\n",
            "|2016|             65|\n",
            "|2017|             66|\n",
            "|2018|             69|\n",
            "|2019|             66|\n",
            "+----+---------------+\n",
            "\n"
          ]
        }
      ]
    },
    {
      "cell_type": "markdown",
      "source": [
        "**DATA VISUALIZATION**"
      ],
      "metadata": {
        "id": "Vh5UAA0Bzfgt"
      }
    },
    {
      "cell_type": "code",
      "source": [
        "# Import pyspark.pandas and matplotlib \n",
        "import pandas as pd\n",
        "import matplotlib.pyplot as plt\n",
        "\n",
        "# Convert the dataframe to a panda DataFrame\n",
        "mean_living_area_per_year_pandas_df = mean_living_area_per_year_df.toPandas()\n",
        "\n",
        "# Plot\n",
        "plt.fill_between(mean_living_area_per_year_pandas_df['Year'], mean_living_area_per_year_pandas_df['mean_LivingArea'], color ='#fd8a5e')\n",
        "plt.xlabel('mean_LivingArea')\n",
        "plt.ylabel('year')\n",
        "plt.title('Distribution of the mean living area between 2015 and 2019')\n",
        "plt.show()\n"
      ],
      "metadata": {
        "colab": {
          "base_uri": "https://localhost:8080/",
          "height": 296
        },
        "id": "UKYKBauLzlkM",
        "outputId": "bb29b12b-7c8b-4dab-d01b-6ca73bf93044"
      },
      "execution_count": null,
      "outputs": [
        {
          "output_type": "display_data",
          "data": {
            "text/plain": [
              "<Figure size 432x288 with 1 Axes>"
            ],
            "image/png": "[encoded data removed]"
          },
          "metadata": {
            "needs_background": "light"
          }
        }
      ]
    },
    {
      "cell_type": "markdown",
      "source": [
        "------------\n",
        "# <font color='#00b8ff'>**RESULTS**\n",
        "------------\n",
        "We can see that the mean living area is steady between 2015 and 2019.\n",
        "\n",
        "------------"
      ],
      "metadata": {
        "id": "QpLyPd_e7oYi"
      }
    }
  ]
}